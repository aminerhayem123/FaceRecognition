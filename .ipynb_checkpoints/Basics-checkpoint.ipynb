{
 "cells": [
  {
   "cell_type": "code",
   "execution_count": null,
   "id": "db564953",
   "metadata": {},
   "outputs": [],
   "source": [
    "import cv2\n",
    "import numpy as np \n",
    "import face_recognition\n",
    "\n",
    "\n",
    "\n",
    "ImgElon = face_recognition.load_image_file('images/elonmask.jpg')\n",
    "ImgElon = cv2.cvtColor(ImgElon,cv2.COLOR_BGR2RGB)\n",
    "ImgTest = face_recognition.load_image_file('images/Elon TEST.jpg')\n",
    "ImgTest = cv2.cvtColor(ImgTest,cv2.COLOR_BGR2RGB)\n",
    "\n",
    "facLoc= face_recognition.face_locations(ImgElon)[0]\n",
    "encodeElon = face_recognition.face_encodings(ImgElon)[0]\n",
    "cv2.rectangle(ImgElon,(facLoc[3],facLoc[0]),(facLoc[1],facLoc[2]),(255,0,255),2)\n",
    "\n",
    "facLocTest= face_recognition.face_locations(ImgTest)[0]\n",
    "encodeTest = face_recognition.face_encodings(ImgTest)[0]\n",
    "cv2.rectangle(ImgTest,(facLocTest[3],facLocTest[0]),(facLocTest[1],facLocTest[2]),(255,0,255),2)\n",
    "\n",
    "results = face_recognition.compare_faces([encodeElon],encodeTest)\n",
    "facedist = face_recognition.face_distance([encodeElon],encodeTest)\n",
    "cv2.putText(ImgTest,f'{results}{round(facedist[0],2)}',(50,50),cv2.FONT_HERSHEY_COMPLEX,1,(0,0,255),2)\n",
    "\n",
    "cv2.imshow('Elon Musk',ImgElon)\n",
    "cv2.imshow('Elon Test',ImgTest)\n",
    "cv2.waitKey(0)\n",
    "\n"
   ]
  },
  {
   "cell_type": "code",
   "execution_count": null,
   "id": "05ff8c0c",
   "metadata": {},
   "outputs": [],
   "source": []
  },
  {
   "cell_type": "code",
   "execution_count": null,
   "id": "8fc7f4d0",
   "metadata": {},
   "outputs": [],
   "source": []
  }
 ],
 "metadata": {
  "kernelspec": {
   "display_name": "Python 3 (ipykernel)",
   "language": "python",
   "name": "python3"
  },
  "language_info": {
   "codemirror_mode": {
    "name": "ipython",
    "version": 3
   },
   "file_extension": ".py",
   "mimetype": "text/x-python",
   "name": "python",
   "nbconvert_exporter": "python",
   "pygments_lexer": "ipython3",
   "version": "3.9.7"
  }
 },
 "nbformat": 4,
 "nbformat_minor": 5
}
